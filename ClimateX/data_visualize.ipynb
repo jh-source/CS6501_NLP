{
 "cells": [
  {
   "cell_type": "code",
   "execution_count": 13,
   "metadata": {},
   "outputs": [],
   "source": [
    "import pandas as pd\n",
    "import json"
   ]
  },
  {
   "cell_type": "code",
   "execution_count": 14,
   "metadata": {},
   "outputs": [],
   "source": [
    "df = pd.read_csv('./data/ipcc_statements_dataset.tsv', sep='\\t')\n",
    "\n",
    "split = df['split']\n",
    "statement = df['statement']\n",
    "confidence = df['confidence']\n",
    "\n",
    "statement_train = []\n",
    "statement_test = []\n",
    "confidence_train = []\n",
    "confidence_test = []\n",
    "\n",
    "for i in range(len(split)):\n",
    "    if split[i] == 'train':\n",
    "        statement_train.append(statement[i])\n",
    "        confidence_train.append(confidence[i])\n",
    "    else:\n",
    "        statement_test.append(statement[i])\n",
    "        confidence_test.append(confidence[i])\n",
    "\n"
   ]
  },
  {
   "cell_type": "code",
   "execution_count": 15,
   "metadata": {},
   "outputs": [],
   "source": [
    "# 根据下列模板，生成json数据\n",
    "# [\n",
    "#   {\n",
    "#     \"system\": \"You are a knowledgeable climate science assistant trained to assess the confidence level associated with various statements about climate change.\"\n",
    "#     \"instruction\": \"You will be presented with a statement about climate science, climate impacts or climate change mitigation which is retrieved or paraphrased from the IPCC AR6 WGI, WGII or WGIII assessment reports. Climate scientists have evaluated that statement as low confidence, medium confidence, high confidence, or very high confidence, based on evidence (type, amount, quantity, consistency) and agreement among their peers. What is their confidence level?\\n Respond *only* with one of the following words: ’low’, ’medium’, ’high’, ’very high’. If you don’t know, you can respond ’I don’t know’.\"\n",
    "#     \"input\": \"Statement: Since 1750, increases in CO2 (47%) and CH4 (156%) concentrations far exceed – and increases in N2O (23%) are similar to – the natural multi-millennial changes between glacial and interglacial periods over at least the past 800,000 years.\",\n",
    "#     \"output\": \"very high\",\n",
    "#   },\n",
    "#   {\n",
    "#     \"system\": \"You are a knowledgeable climate science assistant trained to assess the confidence level associated with various statements about climate change.\"\n",
    "#     \"instruction\": \"You will be presented with a statement about climate science, climate impacts or climate change mitigation which is retrieved or paraphrased from the IPCC AR6 WGI, WGII or WGIII assessment reports. Climate scientists have evaluated that statement as low confidence, medium confidence, high confidence, or very high confidence, based on evidence (type, amount, quantity, consistency) and agreement among their peers. What is their confidence level?\\n Respond *only* with one of the following words: ’low’, ’medium’, ’high’, ’very high’. If you don’t know, you can respond ’I don’t know’.\"\n",
    "#     \"input\": \"Statement: Since 1750, increases in CO2 (47%) and CH4 (156%) concentrations far exceed – and increases in N2O (23%) are similar to – the natural multi-millennial changes between glacial and interglacial periods over at least the past 800,000 years.\",\n",
    "#     \"output\": \"very high\",\n",
    "#   }\n",
    "\n",
    "# ]\n",
    "\n",
    "def gen_json(data):\n",
    "    json_data = []\n",
    "    for i in range(len(data)):\n",
    "        json_data.append({\n",
    "            \"system\": \"You are a knowledgeable climate science assistant trained to assess the confidence level associated with various statements about climate change.\",\n",
    "            \"instruction\": \"You will be presented with a statement about climate science, climate impacts or climate change mitigation which is retrieved or paraphrased from the IPCC AR6 WGI, WGII or WGIII assessment reports. Climate scientists have evaluated that statement as low confidence, medium confidence, high confidence, or very high confidence, based on evidence (type, amount, quantity, consistency) and agreement among their peers. What is their confidence level?\\n Respond *only* with one of the following words: 'low', 'medium', 'high', 'very high'. If you don't know, you can respond 'I don't know'.\",\n",
    "            \"input\": \"Statement: \" + str(data[i]),\n",
    "            \"output\": str(confidence[i]),\n",
    "        })\n",
    "    return json_data\n",
    "\n",
    "train_data = gen_json(statement_train)\n",
    "test_data = gen_json(statement_test)\n",
    "\n",
    "# 保存为json文件\n",
    "with open('./data/train.json', 'w') as f:\n",
    "    json.dump(train_data, f, indent=4)\n",
    "\n",
    "with open('./data/test.json', 'w') as f:\n",
    "    json.dump(test_data, f, indent=4)\n"
   ]
  }
 ],
 "metadata": {
  "kernelspec": {
   "display_name": "Python 3",
   "language": "python",
   "name": "python3"
  },
  "language_info": {
   "codemirror_mode": {
    "name": "ipython",
    "version": 3
   },
   "file_extension": ".py",
   "mimetype": "text/x-python",
   "name": "python",
   "nbconvert_exporter": "python",
   "pygments_lexer": "ipython3",
   "version": "3.11.0"
  }
 },
 "nbformat": 4,
 "nbformat_minor": 2
}
