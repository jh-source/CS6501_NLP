{
 "cells": [
  {
   "cell_type": "code",
   "execution_count": 35,
   "metadata": {},
   "outputs": [],
   "source": [
    "import pandas as pd\n",
    "import numpy as np"
   ]
  },
  {
   "cell_type": "code",
   "execution_count": 36,
   "metadata": {},
   "outputs": [],
   "source": [
    "qwen_7B_init = pd.read_csv('inference_results_qwen_7B_init.csv')\n",
    "qwen_7B_sft = pd.read_csv('inference_results_qwen_7B_sft.csv')\n",
    "qwen_14B_init = pd.read_csv('inference_results_qwen_14B_init.csv')\n",
    "qwen_14B_sft = pd.read_csv('inference_results_qwen_14B_sft.csv')\n"
   ]
  },
  {
   "cell_type": "code",
   "execution_count": 37,
   "metadata": {},
   "outputs": [
    {
     "name": "stdout",
     "output_type": "stream",
     "text": [
      "7B_init 0.25\n",
      "7B_sft 0.5433333333333333\n",
      "14B_init 0.38\n",
      "14B_sft 0.49\n"
     ]
    }
   ],
   "source": [
    "# 比较正确率,召回率,查准率, F1值\n",
    "acc_set = []\n",
    "recall_set = []\n",
    "precision_set = []\n",
    "f1_set = []\n",
    "\n",
    "data_set = [qwen_7B_init, qwen_7B_sft, qwen_14B_init, qwen_14B_sft]\n",
    "res_set = []\n",
    "for data in data_set:\n",
    "    res = []\n",
    "    for i in range(300):\n",
    "        label = data['Expected Output'][i]\n",
    "        pred = data['Generated Output'][i]\n",
    "        res.append([label, pred])\n",
    "    res_set.append(res)\n",
    "    \n",
    "\n",
    "# 计算正确率\n",
    "for i in range(4):\n",
    "    acc = 0\n",
    "    for j in range(300):\n",
    "        if res_set[i][j][0] == res_set[i][j][1]:\n",
    "            acc += 1\n",
    "    acc_set.append(acc / 300)\n",
    "\n",
    "# # 计算召回率\n",
    "# for i in range(4):\n",
    "#     tp = 0\n",
    "#     fn = 0\n",
    "#     for j in range(300):\n",
    "#         if res_set[i][j][0] == res_set[i][j][1] and res_set[i][j][0] == 1:\n",
    "#             tp += 1\n",
    "#         if res_set[i][j][0] == 1:\n",
    "#             fn += 1\n",
    "#     if tp + fn == 0:\n",
    "#         recall_set.append('-')\n",
    "#     else:\n",
    "#         recall_set.append(tp / (tp + fn))\n",
    "\n",
    "# # 计算查准率\n",
    "# for i in range(4):\n",
    "#     tp = 0\n",
    "#     fp = 0\n",
    "#     for j in range(300):\n",
    "#         if res_set[i][j][0] == res_set[i][j][1] and res_set[i][j][0] == 1:\n",
    "#             tp += 1\n",
    "#         if res_set[i][j][1] == 1:\n",
    "#             fp += 1\n",
    "#     if tp + fp == 0:\n",
    "#         precision_set.append('-')\n",
    "#     else:\n",
    "#         precision_set.append(tp / (tp + fp))\n",
    "\n",
    "# # 计算F1值\n",
    "# for i in range(4):\n",
    "#     if precision_set[i] == '-' or recall_set[i] == '-':\n",
    "#         f1_set.append('-')\n",
    "#     else:\n",
    "#         f1 = 2 * precision_set[i] * recall_set[i] / (precision_set[i] + recall_set[i])\n",
    "#         if precision_set[i] == '-' or recall_set[i] == '-':\n",
    "#             f1_set.append('-')\n",
    "#         else:\n",
    "#             f1_set.append(f1)\n",
    "print('7B_init:', acc_set[0])\n",
    "print('7B_sft:', acc_set[1])\n",
    "print('14B_init:', acc_set[2])\n",
    "print('14B_sft:', acc_set[3])\n",
    "# print(recall_set)\n",
    "# print(precision_set)\n",
    "# print(f1_set)\n"
   ]
  }
 ],
 "metadata": {
  "kernelspec": {
   "display_name": "Python 3",
   "language": "python",
   "name": "python3"
  },
  "language_info": {
   "codemirror_mode": {
    "name": "ipython",
    "version": 3
   },
   "file_extension": ".py",
   "mimetype": "text/x-python",
   "name": "python",
   "nbconvert_exporter": "python",
   "pygments_lexer": "ipython3",
   "version": "3.11.0"
  }
 },
 "nbformat": 4,
 "nbformat_minor": 2
}
